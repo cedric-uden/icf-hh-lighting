{
 "cells": [
  {
   "cell_type": "code",
   "id": "initial_id",
   "metadata": {
    "collapsed": true,
    "ExecuteTime": {
     "end_time": "2024-05-15T10:09:39.992824Z",
     "start_time": "2024-05-15T10:09:39.657704Z"
    }
   },
   "source": [
    "from pathlib import Path\n",
    "import pandas as pd\n",
    "import json\n",
    "\n",
    "# On macOS, zip a file like so: `zip -r UserEnv.csv.zip UserEnv.csv`\n",
    "# macOS default compression includes an unwanted dotfile `__MACOSX/.<filename>` which causes issues with pandas\n",
    "MA_FS_ROOT = Path.home()\n",
    "MA_PATH = Path(\"MALightingTechnology/gma3_library/search_plugin_results\")\n",
    "CSV_AS_ZIP = MA_FS_ROOT / MA_PATH / Path(\"UserEnv.csv.zip\")\n",
    "\n",
    "BAD_LINES = Path(\"foo_bad_lines.csv\")\n",
    "open(BAD_LINES, \"w\").close()\n",
    "\n",
    "\n",
    "def write_bad_line(line):\n",
    "    fp = open(BAD_LINES, \"a\")\n",
    "    fp.write(f\"{str(line)}\\n\")\n",
    "    return \"skip\"  # tell callback to skip the line while processing\n",
    "\n",
    "\n",
    "csv: pd.DataFrame = pd.read_csv(\n",
    "    CSV_AS_ZIP,\n",
    "    compression=\"zip\",\n",
    "    on_bad_lines=write_bad_line,\n",
    "    engine=\"pyarrow\",\n",
    ")\n",
    "csv.drop(columns=csv.columns[-1], inplace=True)"
   ],
   "outputs": [],
   "execution_count": 1
  },
  {
   "metadata": {
    "ExecuteTime": {
     "end_time": "2024-05-15T10:09:39.995991Z",
     "start_time": "2024-05-15T10:09:39.993698Z"
    }
   },
   "cell_type": "code",
   "source": [
    "addresses: pd.Series = csv[\"Address\"].drop_duplicates()\n",
    "addresses.dropna(inplace=True)\n",
    "addresses = addresses.astype(str)\n",
    "addresses = addresses.apply(lambda x: x.replace('\"', \"\"))\n",
    "addresses = addresses.apply(lambda x: x.split(\".\"))"
   ],
   "id": "df26b32f12810ddf",
   "outputs": [],
   "execution_count": 2
  },
  {
   "metadata": {
    "ExecuteTime": {
     "end_time": "2024-05-15T10:09:39.998690Z",
     "start_time": "2024-05-15T10:09:39.996775Z"
    }
   },
   "cell_type": "code",
   "source": [
    "def create_nested_dict(paths):\n",
    "    \"\"\"Source - GPT Prompt:\n",
    "    generate a python script to create a nested dictionary based on a list of paths. this has to work similarly as to create a new path in a local filesystem with the command \"mkdir -p\"\n",
    "    \"\"\"\n",
    "\n",
    "    _nested_dict = {}\n",
    "    for _path in paths:\n",
    "        _current_dict = _nested_dict\n",
    "        for _component in _path:\n",
    "            if _component not in _current_dict:\n",
    "                _current_dict[_component] = {}\n",
    "            _current_dict = _current_dict[_component]\n",
    "    return _nested_dict\n",
    "\n",
    "\n",
    "nested_dict = create_nested_dict(addresses)"
   ],
   "id": "6e585a07126776a1",
   "outputs": [],
   "execution_count": 3
  },
  {
   "metadata": {
    "ExecuteTime": {
     "end_time": "2024-05-15T10:09:40.001674Z",
     "start_time": "2024-05-15T10:09:39.999753Z"
    }
   },
   "cell_type": "code",
   "source": [
    "path = \"./foo.json\"\n",
    "with open(path, \"w\", encoding=\"utf-8\") as f:\n",
    "    json.dump(nested_dict, fp=f)"
   ],
   "id": "d252b2fdd3006ea4",
   "outputs": [],
   "execution_count": 4
  }
 ],
 "metadata": {
  "kernelspec": {
   "display_name": "Python 3",
   "language": "python",
   "name": "python3"
  },
  "language_info": {
   "codemirror_mode": {
    "name": "ipython",
    "version": 2
   },
   "file_extension": ".py",
   "mimetype": "text/x-python",
   "name": "python",
   "nbconvert_exporter": "python",
   "pygments_lexer": "ipython2",
   "version": "2.7.6"
  }
 },
 "nbformat": 4,
 "nbformat_minor": 5
}
